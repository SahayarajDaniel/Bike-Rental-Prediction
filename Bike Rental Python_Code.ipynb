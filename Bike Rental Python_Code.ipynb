{
 "cells": [
  {
   "cell_type": "code",
   "execution_count": 1,
   "metadata": {},
   "outputs": [],
   "source": [
    "#Load libraries\\n\",\n",
    "import os\n",
    "import pandas as pd\n",
    "import numpy as np\n",
    "import matplotlib.pyplot as plt\n",
    "import seaborn as sns\n"
   ]
  },
  {
   "cell_type": "code",
   "execution_count": 3,
   "metadata": {},
   "outputs": [],
   "source": [
    "#Set working directory\n",
    "os.chdir(\"E:\\EDW\\Projects\\Bike Rental\")\n",
    "#os.getcwd()\n",
    "#'E:\\\\EDW\\\\Projects\\\\Bike Rental'"
   ]
  },
  {
   "cell_type": "code",
   "execution_count": 4,
   "metadata": {},
   "outputs": [],
   "source": [
    "#Load data\n",
    "day_data = pd.read_csv(\"day.csv\")\n",
    "df=day_data\n",
    "day_data_wo = day_data"
   ]
  },
  {
   "cell_type": "code",
   "execution_count": 7,
   "metadata": {},
   "outputs": [],
   "source": [
    "#Missing Value Analysis"
   ]
  },
  {
   "cell_type": "code",
   "execution_count": 5,
   "metadata": {},
   "outputs": [],
   "source": [
    "#1. Missing Value Identification\n",
    "missing_val = pd.DataFrame(day_data.isnull().sum())\n",
    "#missing_val\n",
    "missing_val = missing_val.reset_index() #Reset index\n",
    "missing_val = missing_val.rename(columns = {'index': 'Variables', 0: 'Missing_percentage'})#Rename variable\n",
    "missing_val['Missing_percentage'] = (missing_val['Missing_percentage']/len(day_data))*100 #Calculate Missing Percentage\n",
    "#missing_val"
   ]
  },
  {
   "cell_type": "code",
   "execution_count": 6,
   "metadata": {},
   "outputs": [],
   "source": [
    "#Outlier Analysis\n"
   ]
  },
  {
   "cell_type": "code",
   "execution_count": 6,
   "metadata": {},
   "outputs": [
    {
     "data": {
      "text/plain": [
       "{'whiskers': [<matplotlib.lines.Line2D at 0x25e4436bcf8>,\n",
       "  <matplotlib.lines.Line2D at 0x25e440d8710>],\n",
       " 'caps': [<matplotlib.lines.Line2D at 0x25e440d8a58>,\n",
       "  <matplotlib.lines.Line2D at 0x25e440d8da0>],\n",
       " 'boxes': [<matplotlib.lines.Line2D at 0x25e442c2f98>],\n",
       " 'medians': [<matplotlib.lines.Line2D at 0x25e440d8e80>],\n",
       " 'fliers': [<matplotlib.lines.Line2D at 0x25e440ec470>],\n",
       " 'means': []}"
      ]
     },
     "execution_count": 6,
     "metadata": {},
     "output_type": "execute_result"
    },
    {
     "data": {
      "image/png": "[encoded data removed]",
      "text/plain": [
       "<Figure size 432x288 with 1 Axes>"
      ]
     },
     "metadata": {
      "needs_background": "light"
     },
     "output_type": "display_data"
    }
   ],
   "source": [
    "#Plot boxplot to visualize Outliers\\n\",\n",
    "%matplotlib inline\n",
    "plt.boxplot(day_data['temp'])"
   ]
  },
  {
   "cell_type": "code",
   "execution_count": 7,
   "metadata": {},
   "outputs": [
    {
     "data": {
      "text/plain": [
       "{'whiskers': [<matplotlib.lines.Line2D at 0x25e44533e48>,\n",
       "  <matplotlib.lines.Line2D at 0x25e44533f28>],\n",
       " 'caps': [<matplotlib.lines.Line2D at 0x25e4453f518>,\n",
       "  <matplotlib.lines.Line2D at 0x25e4453f860>],\n",
       " 'boxes': [<matplotlib.lines.Line2D at 0x25e44533a58>],\n",
       " 'medians': [<matplotlib.lines.Line2D at 0x25e4453fba8>],\n",
       " 'fliers': [<matplotlib.lines.Line2D at 0x25e4453fef0>],\n",
       " 'means': []}"
      ]
     },
     "execution_count": 7,
     "metadata": {},
     "output_type": "execute_result"
    },
    {
     "data": {
      "image/png": "[encoded data removed]",
      "text/plain": [
       "<Figure size 432x288 with 1 Axes>"
      ]
     },
     "metadata": {
      "needs_background": "light"
     },
     "output_type": "display_data"
    }
   ],
   "source": [
    "plt.boxplot(day_data['atemp'])"
   ]
  },
  {
   "cell_type": "code",
   "execution_count": 11,
   "metadata": {},
   "outputs": [
    {
     "data": {
      "text/plain": [
       "{'whiskers': [<matplotlib.lines.Line2D at 0x296fddb16d8>,\n",
       "  <matplotlib.lines.Line2D at 0x296fddb1a20>],\n",
       " 'caps': [<matplotlib.lines.Line2D at 0x296fddb1d68>,\n",
       "  <matplotlib.lines.Line2D at 0x296fddb1e48>],\n",
       " 'boxes': [<matplotlib.lines.Line2D at 0x296fddb12e8>],\n",
       " 'medians': [<matplotlib.lines.Line2D at 0x296fddbd438>],\n",
       " 'fliers': [<matplotlib.lines.Line2D at 0x296fddbd780>],\n",
       " 'means': []}"
      ]
     },
     "execution_count": 11,
     "metadata": {},
     "output_type": "execute_result"
    },
    {
     "data": {
      "image/png": "[encoded data removed]",
      "text/plain": [
       "<Figure size 432x288 with 1 Axes>"
      ]
     },
     "metadata": {
      "needs_background": "light"
     },
     "output_type": "display_data"
    }
   ],
   "source": [
    "plt.boxplot(day_data['windspeed'])"
   ]
  },
  {
   "cell_type": "code",
   "execution_count": 8,
   "metadata": {},
   "outputs": [
    {
     "data": {
      "text/plain": [
       "{'whiskers': [<matplotlib.lines.Line2D at 0x25e446a14a8>,\n",
       "  <matplotlib.lines.Line2D at 0x25e446a17f0>],\n",
       " 'caps': [<matplotlib.lines.Line2D at 0x25e446a1b38>,\n",
       "  <matplotlib.lines.Line2D at 0x25e446a1e80>],\n",
       " 'boxes': [<matplotlib.lines.Line2D at 0x25e446a10b8>],\n",
       " 'medians': [<matplotlib.lines.Line2D at 0x25e446a1f60>],\n",
       " 'fliers': [<matplotlib.lines.Line2D at 0x25e446ab550>],\n",
       " 'means': []}"
      ]
     },
     "execution_count": 8,
     "metadata": {},
     "output_type": "execute_result"
    },
    {
     "data": {
      "image/png": "[encoded data removed]",
      "text/plain": [
       "<Figure size 432x288 with 1 Axes>"
      ]
     },
     "metadata": {
      "needs_background": "light"
     },
     "output_type": "display_data"
    }
   ],
   "source": [
    "plt.boxplot(day_data['hum'])"
   ]
  },
  {
   "cell_type": "code",
   "execution_count": 9,
   "metadata": {},
   "outputs": [
    {
     "data": {
      "text/plain": [
       "{'whiskers': [<matplotlib.lines.Line2D at 0x25e447f5d68>,\n",
       "  <matplotlib.lines.Line2D at 0x25e447fe390>],\n",
       " 'caps': [<matplotlib.lines.Line2D at 0x25e447fe6d8>,\n",
       "  <matplotlib.lines.Line2D at 0x25e447fea20>],\n",
       " 'boxes': [<matplotlib.lines.Line2D at 0x25e447f5c18>],\n",
       " 'medians': [<matplotlib.lines.Line2D at 0x25e447fed68>],\n",
       " 'fliers': [<matplotlib.lines.Line2D at 0x25e447fee48>],\n",
       " 'means': []}"
      ]
     },
     "execution_count": 9,
     "metadata": {},
     "output_type": "execute_result"
    },
    {
     "data": {
      "image/png": "[encoded data removed]",
      "text/plain": [
       "<Figure size 432x288 with 1 Axes>"
      ]
     },
     "metadata": {
      "needs_background": "light"
     },
     "output_type": "display_data"
    }
   ],
   "source": [
    "plt.boxplot(day_data['cnt'])"
   ]
  },
  {
   "cell_type": "code",
   "execution_count": 10,
   "metadata": {},
   "outputs": [
    {
     "name": "stdout",
     "output_type": "stream",
     "text": [
      "temp\n",
      "-0.14041600000000015\n",
      "1.1329160000000003\n",
      "atemp\n",
      "-0.06829675000000018\n",
      "1.0147412500000002\n",
      "hum\n",
      "0.20468725\n",
      "1.0455212500000002\n",
      "windspeed\n",
      "-0.012431000000000025\n",
      "0.380585\n",
      "casual\n",
      "-885.0\n",
      "2323.0\n",
      "registered\n",
      "-840.0\n",
      "8018.0\n",
      "cnt\n",
      "-788.125\n",
      "9500.875\n"
     ]
    }
   ],
   "source": [
    "cnames = [\"temp\", \"atemp\", \"hum\", \"windspeed\", \"casual\", \"registered\", \"cnt\"]\n",
    "#Detect and delete outliers from data\n",
    "for i in cnames:\n",
    "     print(i)\n",
    "     q75, q25 = np.percentile(day_data_wo.loc[:,i], [75 ,25])\n",
    "     iqr = q75 - q25\n",
    "\n",
    "     min = q25 - (iqr*1.5)\n",
    "     max = q75 + (iqr*1.5)\n",
    "     print(min)\n",
    "     print(max)\n",
    "\n",
    "     day_data_wo = day_data_wo.drop(day_data_wo[day_data_wo.loc[:,i] < min].index)\n",
    "     day_data_wo = day_data_wo.drop(day_data_wo[day_data_wo.loc[:,i] > max].index)\n"
   ]
  },
  {
   "cell_type": "code",
   "execution_count": 41,
   "metadata": {},
   "outputs": [
    {
     "data": {
      "text/plain": [
       "(676, 16)"
      ]
     },
     "execution_count": 41,
     "metadata": {},
     "output_type": "execute_result"
    }
   ],
   "source": [
    "day_data_wo.shape"
   ]
  },
  {
   "cell_type": "code",
   "execution_count": 11,
   "metadata": {},
   "outputs": [
    {
     "data": {
      "text/plain": [
       "<matplotlib.axes._subplots.AxesSubplot at 0x25e4485da90>"
      ]
     },
     "execution_count": 11,
     "metadata": {},
     "output_type": "execute_result"
    },
    {
     "data": {
      "image/png": "[encoded data removed]",
      "text/plain": [
       "<Figure size 504x360 with 2 Axes>"
      ]
     },
     "metadata": {
      "needs_background": "light"
     },
     "output_type": "display_data"
    }
   ],
   "source": [
    "##Correlation analysis\n",
    "#Correlation plot\n",
    "df_corr = day_data.loc[:,cnames]\n",
    "\n",
    "#Set the width and hieght of the plot\n",
    "f, ax = plt.subplots(figsize=(7, 5))\n",
    "#Generate correlation matrix\n",
    "corr = df_corr.corr()\n",
    "\n",
    "#Plot using seaborn library\\n\",\n",
    "sns.heatmap(corr, mask=np.zeros_like(corr, dtype=np.bool), cmap=sns.diverging_palette(220, 10, as_cmap=True),square=True, ax=ax)\n"
   ]
  },
  {
   "cell_type": "code",
   "execution_count": 12,
   "metadata": {},
   "outputs": [
    {
     "name": "stdout",
     "output_type": "stream",
     "text": [
      "season\n",
      "0.5440596338517547\n",
      "Variable not useful in predicting\n",
      "yr\n",
      "0.367724209978971\n",
      "Variable not useful in predicting\n",
      "mnth\n",
      "0.49177634472851\n",
      "Variable not useful in predicting\n",
      "holiday\n",
      "0.6781463865579803\n",
      "Variable not useful in predicting\n",
      "weekday\n",
      "0.4102128310764939\n",
      "Variable not useful in predicting\n",
      "workingday\n",
      "0.45435914436398794\n",
      "Variable not useful in predicting\n",
      "weathersit\n",
      "0.6407439686474243\n",
      "Variable not useful in predicting\n"
     ]
    }
   ],
   "source": [
    "#Chisquare test of independence\n",
    "#Save categorical variables\n",
    "from scipy.stats import chi2_contingency\n",
    "cat_names = [\"season\", \"yr\", \"mnth\", \"holiday\", \"weekday\", \"workingday\", \"weathersit\"]\n",
    "\n",
    "#loop for chi square values\n",
    "for i in cat_names:\n",
    "    print(i)\n",
    "    chi2, p, dof, ex = chi2_contingency(pd.crosstab(day_data['cnt'], day_data[i]))\n",
    "    print(p)\n",
    "    if p > 0.05:\n",
    "        print(\"Variable not useful in predicting\")\n",
    "\n",
    "day_data = day_data.drop([\"instant\", \"dteday\",\"workingday\",\"weathersit\", \"atemp\", \"casual\", \"registered\"], axis=1)"
   ]
  },
  {
   "cell_type": "code",
   "execution_count": 12,
   "metadata": {},
   "outputs": [
    {
     "data": {
      "text/plain": [
       "(731, 9)"
      ]
     },
     "execution_count": 12,
     "metadata": {},
     "output_type": "execute_result"
    }
   ],
   "source": [
    "day_data.shape"
   ]
  },
  {
   "cell_type": "code",
   "execution_count": 13,
   "metadata": {},
   "outputs": [],
   "source": [
    "##Machine Learning Algorithms\n",
    "import sklearn\n",
    "from sklearn.model_selection import train_test_split\n",
    "from sklearn.tree import DecisionTreeRegressor\n",
    "\n",
    "\n",
    "#Divide data into train and test\n",
    "train, test = train_test_split(day_data, test_size=0.1)\n"
   ]
  },
  {
   "cell_type": "code",
   "execution_count": 14,
   "metadata": {},
   "outputs": [],
   "source": [
    "\n",
    "#Decision tree for regression\n",
    "fit_DT = DecisionTreeRegressor(max_depth=2).fit(train.iloc[:,0:8], train.iloc[:,8])\n",
    "\n",
    "#Apply model on test data\n",
    "predictions_DT = fit_DT.predict(test.iloc[:,0:8])\n"
   ]
  },
  {
   "cell_type": "code",
   "execution_count": 15,
   "metadata": {},
   "outputs": [
    {
     "name": "stdout",
     "output_type": "stream",
     "text": [
      "error percentage for data  - Decision tree 34.99140362129246\n"
     ]
    }
   ],
   "source": [
    "\n",
    "#Calculate MAPE\n",
    "def MAPE(y_true, y_pred): \n",
    "    mape = np.mean(np.abs((y_true - y_pred) / y_true))*100\n",
    "    return mape\n",
    "\n",
    "mape_dt = MAPE(test.iloc[:,8], predictions_DT)\n",
    "print(\"error percentage for data  - Decision tree\", mape_dt)"
   ]
  },
  {
   "cell_type": "code",
   "execution_count": 18,
   "metadata": {},
   "outputs": [
    {
     "name": "stdout",
     "output_type": "stream",
     "text": [
      "error percentage for data  - Random Forest 20.754610605266027\n"
     ]
    }
   ],
   "source": [
    "##Random Forest\n",
    "from sklearn.ensemble import RandomForestRegressor\n",
    "\n",
    "#Random Forest for regression\n",
    "fit_RF = RandomForestRegressor(bootstrap=True, max_depth=None, random_state=0 ,n_estimators=50).fit(train.iloc[:,0:8], train.iloc[:,8])\n",
    "\n",
    "#Apply model on test data\n",
    "predictions_RF = fit_RF.predict(test.iloc[:,0:8])\n",
    "\n",
    "mape_rf = MAPE(test.iloc[:,8], predictions_RF)\n",
    "print(\"error percentage for data  - Random Forest\", mape_rf)"
   ]
  },
  {
   "cell_type": "code",
   "execution_count": 17,
   "metadata": {},
   "outputs": [
    {
     "name": "stdout",
     "output_type": "stream",
     "text": [
      "error percentage for data - Linear Regression  26.4934812469788\n"
     ]
    }
   ],
   "source": [
    "##Linear Regression\n",
    "\n",
    "#Import libraries for LR\n",
    "import statsmodels.api as sm\n",
    "\n",
    "# Train the model using the training sets\n",
    "linear_model = sm.OLS(train.iloc[:,8], train.iloc[:,0:8]).fit()\n",
    "\n",
    "# Print out the statistics\n",
    "linear_model.summary()\n",
    "\n",
    "# make the predictions by the model\n",
    "predictions_LR = linear_model.predict(test.iloc[:,0:8]) \n",
    "\n",
    "\n",
    "#Calculate MAPE\n",
    "mape_lr = MAPE(test.iloc[:,8], predictions_LR)\n",
    "print(\"error percentage for data - Linear Regression \", mape_lr)"
   ]
  },
  {
   "cell_type": "code",
   "execution_count": 20,
   "metadata": {},
   "outputs": [
    {
     "name": "stdout",
     "output_type": "stream",
     "text": [
      "error percentage for data without outlier - Decision tree 27.90743114927884\n",
      "error percentage for data without outlier - Random Forest 122.50341347000739\n",
      "error percentage for data without outliers - Linear Regression  26.4934812469788\n"
     ]
    }
   ],
   "source": [
    "#for outliers removed data\n",
    "#Divide data into train and test\n",
    "day_data_wo = df\n",
    "day_data_wo = day_data_wo.drop([\"instant\", \"dteday\",\"workingday\",\"weathersit\", \"atemp\", \"casual\", \"registered\"], axis=1)\n",
    "train_wo, test_wo = train_test_split(day_data_wo, test_size=0.1)\n",
    "#Decision tree for regression\n",
    "fit_DT_wo = DecisionTreeRegressor(max_depth=2).fit(train_wo.iloc[:,0:8], train_wo.iloc[:,8])\n",
    "\n",
    "#Apply model on test data\n",
    "predictions_DT_wo = fit_DT_wo.predict(test_wo.iloc[:,0:8])\n",
    "\n",
    "mape_dt_wo = MAPE(test_wo.iloc[:,8], predictions_DT_wo)\n",
    "print(\"error percentage for data without outlier - Decision tree\", mape_dt_wo)\n",
    "\n",
    "#Random Forest for regression\n",
    "fit_RF_wo = RandomForestRegressor(bootstrap=True, max_depth=None, random_state=0 ,n_estimators=50).fit(train_wo.iloc[:,0:8], train_wo.iloc[:,8])\n",
    "#Apply model on test data\n",
    "predictions_RF_wo = fit_RF_wo.predict(test_wo.iloc[:,0:8])\n",
    "\n",
    "mape_rf_wo = MAPE(test.iloc[:,8], predictions_RF_wo)\n",
    "print(\"error percentage for data without outlier - Random Forest\", mape_rf_wo)\n",
    "\n",
    "\n",
    "# Train the model using the training sets\n",
    "linear_model_wo = sm.OLS(train_wo.iloc[:,8], train_wo.iloc[:,0:8]).fit()\n",
    "\n",
    "# make the predictions by the model\n",
    "predictions_LR_wo = linear_model_wo.predict(test_wo.iloc[:,0:8]) \n",
    "\n",
    "\n",
    "#Calculate MAPE\n",
    "mape_lr_wo = MAPE(test.iloc[:,8], predictions_LR)\n",
    "print(\"error percentage for data without outliers - Linear Regression \", mape_lr_wo)"
   ]
  }
 ],
 "metadata": {
  "celltoolbar": "Raw Cell Format",
  "kernelspec": {
   "display_name": "Python 3",
   "language": "python",
   "name": "python3"
  },
  "language_info": {
   "codemirror_mode": {
    "name": "ipython",
    "version": 3
   },
   "file_extension": ".py",
   "mimetype": "text/x-python",
   "name": "python",
   "nbconvert_exporter": "python",
   "pygments_lexer": "ipython3",
   "version": "3.7.1"
  }
 },
 "nbformat": 4,
 "nbformat_minor": 2
}
